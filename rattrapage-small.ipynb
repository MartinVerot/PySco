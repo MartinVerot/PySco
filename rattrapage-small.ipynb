{
 "cells": [
  {
   "cell_type": "code",
   "execution_count": 1,
   "id": "975c7d14",
   "metadata": {},
   "outputs": [],
   "source": [
    "# Liste des étudiants\n",
    "etudiants = [\"Dupond Alexis\",\"Dupont Léon Rémi\",\"Haddock Archibald\",\"Tournesol Tryphon\"]\n",
    "heure_debut_str = \"15h30\"\n",
    "duree_preparation = 30\n",
    "duree_passage = 15\n",
    "duree_shift = 10"
   ]
  },
  {
   "cell_type": "code",
   "execution_count": 2,
   "id": "d2d1f7c9",
   "metadata": {},
   "outputs": [
    {
     "name": "stdout",
     "output_type": "stream",
     "text": [
      "\n",
      "Dupond Alexis\n",
      "heure de préparation : 15h30\n",
      "heure de passage     : 16h00\n",
      "heure de fin         : 16h15\n",
      "\n",
      "Dupont Léon Rémi\n",
      "heure de préparation : 15h55\n",
      "heure de passage     : 16h25\n",
      "heure de fin         : 16h40\n",
      "\n",
      "Haddock Archibald\n",
      "heure de préparation : 16h20\n",
      "heure de passage     : 16h50\n",
      "heure de fin         : 17h05\n",
      "\n",
      "Tournesol Tryphon\n",
      "heure de préparation : 16h45\n",
      "heure de passage     : 17h15\n",
      "heure de fin         : 17h30\n",
      "\n",
      "\n",
      "\n",
      ";heure de préparation;heure de passage;heure de fin\n",
      "Dupond Alexis                 ;15h30;16h00;16h15\n",
      "Dupont Léon Rémi              ;15h55;16h25;16h40\n",
      "Haddock Archibald             ;16h20;16h50;17h05\n",
      "Tournesol Tryphon             ;16h45;17h15;17h30\n",
      "\n"
     ]
    }
   ],
   "source": [
    "def converthtomin(strh):\n",
    "    \"\"\"Conversion des heures au format XXhYY en minutes\"\"\"\n",
    "    split = strh.split(\"h\")\n",
    "    for i,item in enumerate(split):\n",
    "        split[i]=float(item)\n",
    "    return split[1]+split[0]*60\n",
    "\n",
    "def mintoh(hminutes):\n",
    "    \"\"\"Conversion des heures en minute au format XXhYY\"\"\"\n",
    "    heures = hminutes // 60 #nb d'heures avec division euclidienne (quotient)\n",
    "    minutes = hminutes % 60 #reste de la difision euclidienne\n",
    "    return \"{:02.0f}h{:02.0f}\".format(heures,minutes)\n",
    "    \n",
    "    \n",
    "heure_debut = converthtomin(heure_debut_str)\n",
    "\n",
    "# export format type csv importable dans excel.\n",
    "text = \"\"\n",
    "text += \";heure de préparation;heure de passage;heure de fin\\n\"\n",
    "\n",
    "\n",
    "for i,etudiant in enumerate(etudiants):\n",
    "\n",
    "    start_etudiant = heure_debut + (duree_preparation - duree_passage+duree_shift) * i\n",
    "    passage_etudiant = start_etudiant + (duree_preparation)\n",
    "    fin_etudiant = passage_etudiant + duree_passage\n",
    "    #format séquentiel étudiant par étudiant\n",
    "    print('\\n'+etudiant)\n",
    "    print(\"heure de préparation : {}\".format(mintoh(start_etudiant)))\n",
    "    print(\"heure de passage     : {}\".format(mintoh(passage_etudiant)))    \n",
    "    print(\"heure de fin         : {}\".format(mintoh(fin_etudiant)))   \n",
    "    # export format type csv importable dans excel.\n",
    "    text +=\"{:<30};{};{};{}\\n\".format(etudiant,mintoh(start_etudiant),mintoh(passage_etudiant),mintoh(fin_etudiant))\n",
    "\n",
    "print('\\n\\n')    \n",
    "    \n",
    "print(text)"
   ]
  },
  {
   "cell_type": "code",
   "execution_count": null,
   "id": "2a0195a9",
   "metadata": {},
   "outputs": [],
   "source": []
  }
 ],
 "metadata": {
  "kernelspec": {
   "display_name": "Python 3 (ipykernel)",
   "language": "python",
   "name": "python3"
  },
  "language_info": {
   "codemirror_mode": {
    "name": "ipython",
    "version": 3
   },
   "file_extension": ".py",
   "mimetype": "text/x-python",
   "name": "python",
   "nbconvert_exporter": "python",
   "pygments_lexer": "ipython3",
   "version": "3.10.12"
  }
 },
 "nbformat": 4,
 "nbformat_minor": 5
}
